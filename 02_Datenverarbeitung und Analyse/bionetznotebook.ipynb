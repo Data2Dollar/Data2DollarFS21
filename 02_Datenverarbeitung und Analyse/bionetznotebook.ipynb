{
 "cells": [
  {
   "cell_type": "code",
   "execution_count": null,
   "metadata": {},
   "outputs": [],
   "source": [
    "# Importieren der benoetigten Bibliotheken \n",
    "import pandas as pd"
   ]
  },
  {
   "cell_type": "code",
   "execution_count": null,
   "metadata": {},
   "outputs": [],
   "source": [
    "# Laden des Files aus dem Web Scraper \n",
    "raw_df_scraper = pd.read_csv(\"bionetz_hsgtutorial.csv\")\n",
    "# Anzeige des Datensatzes\n",
    "raw_df_scraper"
   ]
  },
  {
   "cell_type": "code",
   "execution_count": null,
   "metadata": {},
   "outputs": [],
   "source": [
    "# Uebersicht ueber den Datensatz \n",
    "raw_df_scraper.describe()"
   ]
  },
  {
   "cell_type": "code",
   "execution_count": null,
   "metadata": {},
   "outputs": [],
   "source": [
    "# Ersten 5 Instanzen anschauen\n",
    "raw_df_scraper.head()"
   ]
  },
  {
   "cell_type": "code",
   "execution_count": null,
   "metadata": {},
   "outputs": [],
   "source": [
    "# Alternativ: Letzten 5 Instanzen des Datensatz anschauen\n",
    "raw_df_scraper.tail()"
   ]
  },
  {
   "cell_type": "code",
   "execution_count": null,
   "metadata": {},
   "outputs": [],
   "source": [
    "# Nach \"Unnknown Values\" suchen\n",
    "raw_df_scraper.sum()"
   ]
  },
  {
   "cell_type": "code",
   "execution_count": null,
   "metadata": {},
   "outputs": [],
   "source": [
    "# Nachdem wir einige Erkentnisse erlangt haben - versuchen wir den Datensatz zu saeubern\n",
    "# Wir droppen erst einmal alle Spalten, die uns nicht interessieren\n",
    "raw_df_scraper = raw_df_scraper.drop(['web-scraper-order', 'web-scraper-start-url', 'loadmore', 'loadstores-href', 'loadmore-href'], axis=1)\n",
    "raw_df_scraper"
   ]
  },
  {
   "cell_type": "code",
   "execution_count": null,
   "metadata": {},
   "outputs": [],
   "source": [
    "# Wir sehen, dass in der Spalte Adresse alles vor dem ',' die Strasse ist, daher schneiden wir dort ab und  \n",
    "# erstellen eine neue Spalte 'Strasse'\n",
    "raw_df_scraper['Strasse'] = raw_df_scraper['adresse'].str.split(',').str[0]\n",
    "raw_df_scraper"
   ]
  },
  {
   "cell_type": "code",
   "execution_count": null,
   "metadata": {},
   "outputs": [],
   "source": [
    "# Wir sehen, dass in der Spalte adresse alles nach dem ',' die eigentliche Postleitzahl und die Stadtist, \n",
    "# daher schneiden wir dort ab und erstellen eine neue Spalte 'Postleitzahl'\n",
    "raw_df_scraper['Postleitzahl'] = raw_df_scraper['adresse'].str.split(',').str[1]\n",
    "raw_df_scraper['Postleitzahl'] = raw_df_scraper['Postleitzahl'].str.split(' ', n=2).str[1]\n",
    "raw_df_scraper"
   ]
  },
  {
   "cell_type": "code",
   "execution_count": null,
   "metadata": {},
   "outputs": [],
   "source": [
    "# Wir sehen, dass in der Spalte adresse alles nach dem ',' und der Postleitzahl die eigentliche Stadt ist\n",
    "# dort ab und erstellen eine neue Spalte 'Stadt'\n",
    "raw_df_scraper['Stadt'] = raw_df_scraper['adresse'].str.split(',').str[1]\n",
    "raw_df_scraper['Stadt'] = raw_df_scraper['Stadt'].str.split(' ', n=2).str[2]\n",
    "raw_df_scraper"
   ]
  },
  {
   "cell_type": "code",
   "execution_count": null,
   "metadata": {
    "scrolled": true
   },
   "outputs": [],
   "source": [
    "# Wir droppen die ueberfluessige Spalte\n",
    "raw_df_scraper = raw_df_scraper.drop(['adresse'], axis=1)\n",
    "raw_df_scraper"
   ]
  },
  {
   "cell_type": "code",
   "execution_count": null,
   "metadata": {},
   "outputs": [],
   "source": [
    "#\n",
    "#\n",
    "# Jetzt wollen wir den Twitter Datensatz mit dem Scraper Datensatz kombinieren \n",
    "#\n",
    "#"
   ]
  },
  {
   "cell_type": "code",
   "execution_count": null,
   "metadata": {},
   "outputs": [],
   "source": [
    "# Laden des Files aus Twitter/Twint\n",
    "raw_df_twitter = pd.read_csv(\"bionetztwitter.csv\", error_bad_lines=False)\n",
    "# Anzeige des Datensatzes\n",
    "raw_df_twitter"
   ]
  },
  {
   "cell_type": "code",
   "execution_count": null,
   "metadata": {},
   "outputs": [],
   "source": [
    "# Wir mergen die beiden Datensaetze \n",
    "datasets_combined = pd.concat([raw_df_scraper,raw_df_twitter])\n",
    "datasets_combined"
   ]
  },
  {
   "cell_type": "code",
   "execution_count": null,
   "metadata": {},
   "outputs": [],
   "source": [
    "# Speichern des Datensatzes als csv\n",
    "datasets_combined.to_csv('datasets_combined.csv', index=False, sep=';')"
   ]
  },
  {
   "cell_type": "code",
   "execution_count": null,
   "metadata": {},
   "outputs": [],
   "source": [
    "# Speichern des Datensatzes als csv mit utf-8-encoding \n",
    "datasets_combined.to_csv('datasets_combinedUTF.csv', index=False, sep=';', encoding='utf-8-sig')"
   ]
  }
 ],
 "metadata": {
  "kernelspec": {
   "display_name": "Python 3",
   "language": "python",
   "name": "python3"
  },
  "language_info": {
   "codemirror_mode": {
    "name": "ipython",
    "version": 3
   },
   "file_extension": ".py",
   "mimetype": "text/x-python",
   "name": "python",
   "nbconvert_exporter": "python",
   "pygments_lexer": "ipython3",
   "version": "3.8.5"
  }
 },
 "nbformat": 4,
 "nbformat_minor": 4
}
