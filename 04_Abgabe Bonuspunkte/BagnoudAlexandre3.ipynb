{
 "cells": [
  {
   "cell_type": "code",
   "execution_count": 1,
   "metadata": {},
   "outputs": [],
   "source": [
    "import numpy as np\n",
    "import pandas as pd\n",
    "import matplotlib.pyplot as plt\n",
    "from matplotlib.dates import MonthLocator, YearLocator, DateFormatter"
   ]
  },
  {
   "cell_type": "code",
   "execution_count": 2,
   "metadata": {},
   "outputs": [],
   "source": [
    "%matplotlib inline"
   ]
  },
  {
   "cell_type": "markdown",
   "metadata": {},
   "source": [
    "# Import and Clean Dataset about Blog Articles"
   ]
  },
  {
   "cell_type": "code",
   "execution_count": 3,
   "metadata": {},
   "outputs": [],
   "source": [
    "# Import the dataset\n",
    "blog = pd.read_csv('BagnoudAlexandre3.csv')"
   ]
  },
  {
   "cell_type": "code",
   "execution_count": 4,
   "metadata": {},
   "outputs": [],
   "source": [
    "# Clean the Tags column\n",
    "blog['Tags'] = blog['Tags'].map(lambda x: x.lstrip('Tags:,\\n\\t\\t\\t\\t\\t\\t\\t,'))\n",
    "blog['Tags'] = blog['Tags'].map(lambda x: x.replace(',, ,', ', '))"
   ]
  },
  {
   "cell_type": "code",
   "execution_count": 5,
   "metadata": {},
   "outputs": [],
   "source": [
    "# Clean the Author column\n",
    "blog['Author'] = blog['Author'].map(lambda x: x.lstrip('Autor:,\\n\\t\\t\\t\\t\\t\\t,'))\n",
    "blog['Author'].replace('ne Grüttner', 'Arne Grüttner', inplace=True)"
   ]
  },
  {
   "cell_type": "code",
   "execution_count": 6,
   "metadata": {},
   "outputs": [],
   "source": [
    "# Clean the Text and Text2 columns and merge them\n",
    "blog['Text'] = blog['Text2'].astype(str) + ' ' + blog['Text'].astype(str)\n",
    "blog['Text'] = blog['Text'].map(lambda x: x.lstrip('nan '))\n",
    "blog.drop('Text2', inplace=True, axis=1)"
   ]
  },
  {
   "cell_type": "code",
   "execution_count": 7,
   "metadata": {},
   "outputs": [],
   "source": [
    "# Clean the URL column to keep the publication date only, and change the type of the column to datetime\n",
    "blog['URL'] = blog['URL'].map(lambda x: x.lstrip('https://aback-blog.iwi.unisg.ch/'))\n",
    "blog['URL'] = blog['URL'].map(lambda x: x[:10])\n",
    "blog.rename(columns={'URL':'Publication_Date'}, inplace=True)\n",
    "blog['Publication_Date'] = pd.to_datetime(blog['Publication_Date'])"
   ]
  },
  {
   "cell_type": "code",
   "execution_count": 8,
   "metadata": {},
   "outputs": [
    {
     "data": {
      "text/html": [
       "<div>\n",
       "<style scoped>\n",
       "    .dataframe tbody tr th:only-of-type {\n",
       "        vertical-align: middle;\n",
       "    }\n",
       "\n",
       "    .dataframe tbody tr th {\n",
       "        vertical-align: top;\n",
       "    }\n",
       "\n",
       "    .dataframe thead th {\n",
       "        text-align: right;\n",
       "    }\n",
       "</style>\n",
       "<table border=\"1\" class=\"dataframe\">\n",
       "  <thead>\n",
       "    <tr style=\"text-align: right;\">\n",
       "      <th></th>\n",
       "      <th>Category</th>\n",
       "      <th>Title</th>\n",
       "      <th>Text</th>\n",
       "      <th>Tags</th>\n",
       "      <th>Author</th>\n",
       "      <th>Publication_Date</th>\n",
       "    </tr>\n",
       "  </thead>\n",
       "  <tbody>\n",
       "    <tr>\n",
       "      <td>0</td>\n",
       "      <td>Agile Innovation</td>\n",
       "      <td>Vision Videos – ein Medium für eine geteilte P...</td>\n",
       "      <td>Die Basis einer erfolgreichen Zusammenarbeit i...</td>\n",
       "      <td>Agile Innovation, Digital</td>\n",
       "      <td>Lena-Marie Paetzmann</td>\n",
       "      <td>2021-02-18</td>\n",
       "    </tr>\n",
       "    <tr>\n",
       "      <td>1</td>\n",
       "      <td>Agile Innovation</td>\n",
       "      <td>Erfolgsfaktoren für digitale Solutions: Wie st...</td>\n",
       "      <td>Im Rahmen ihrer Masterarbeit, hat Julia Lötsch...</td>\n",
       "      <td>Agile Innovation, Digital, Future of Work, Leh...</td>\n",
       "      <td>Lena-Marie Paetzmann</td>\n",
       "      <td>2020-10-14</td>\n",
       "    </tr>\n",
       "    <tr>\n",
       "      <td>2</td>\n",
       "      <td>Agile Innovation</td>\n",
       "      <td>Zwanzig Aspekte von Innovationskultur, um digi...</td>\n",
       "      <td>In Gesprächen mit unseren Praxispartnern hören...</td>\n",
       "      <td>Agile Innovation, Digital, Lehrstuhlnachrichten</td>\n",
       "      <td>Christian Marheine</td>\n",
       "      <td>2020-06-15</td>\n",
       "    </tr>\n",
       "    <tr>\n",
       "      <td>3</td>\n",
       "      <td>Agile Innovation</td>\n",
       "      <td>Teil 5/5 [Lernkultur]: Raum für neue Lernkultu...</td>\n",
       "      <td>In einem Interview für die Plattform “,Learnin...</td>\n",
       "      <td>Agile Innovation, Future of Work, Learning Inn...</td>\n",
       "      <td>Lena-Marie Paetzmann</td>\n",
       "      <td>2020-05-17</td>\n",
       "    </tr>\n",
       "    <tr>\n",
       "      <td>4</td>\n",
       "      <td>Agile Innovation</td>\n",
       "      <td>Swissteach AG gemeinsam mit CULTURE CONTACT au...</td>\n",
       "      <td>Sponsored Post., Die ,Swissteach AG, hat ihr P...</td>\n",
       "      <td>Agile Innovation, Artificial Intelligence, Dig...</td>\n",
       "      <td>Lena-Marie Paetzmann</td>\n",
       "      <td>2020-05-17</td>\n",
       "    </tr>\n",
       "  </tbody>\n",
       "</table>\n",
       "</div>"
      ],
      "text/plain": [
       "           Category                                              Title  \\\n",
       "0  Agile Innovation  Vision Videos – ein Medium für eine geteilte P...   \n",
       "1  Agile Innovation  Erfolgsfaktoren für digitale Solutions: Wie st...   \n",
       "2  Agile Innovation  Zwanzig Aspekte von Innovationskultur, um digi...   \n",
       "3  Agile Innovation  Teil 5/5 [Lernkultur]: Raum für neue Lernkultu...   \n",
       "4  Agile Innovation  Swissteach AG gemeinsam mit CULTURE CONTACT au...   \n",
       "\n",
       "                                                Text  \\\n",
       "0  Die Basis einer erfolgreichen Zusammenarbeit i...   \n",
       "1  Im Rahmen ihrer Masterarbeit, hat Julia Lötsch...   \n",
       "2  In Gesprächen mit unseren Praxispartnern hören...   \n",
       "3  In einem Interview für die Plattform “,Learnin...   \n",
       "4  Sponsored Post., Die ,Swissteach AG, hat ihr P...   \n",
       "\n",
       "                                                Tags                Author  \\\n",
       "0                          Agile Innovation, Digital  Lena-Marie Paetzmann   \n",
       "1  Agile Innovation, Digital, Future of Work, Leh...  Lena-Marie Paetzmann   \n",
       "2    Agile Innovation, Digital, Lehrstuhlnachrichten    Christian Marheine   \n",
       "3  Agile Innovation, Future of Work, Learning Inn...  Lena-Marie Paetzmann   \n",
       "4  Agile Innovation, Artificial Intelligence, Dig...  Lena-Marie Paetzmann   \n",
       "\n",
       "  Publication_Date  \n",
       "0       2021-02-18  \n",
       "1       2020-10-14  \n",
       "2       2020-06-15  \n",
       "3       2020-05-17  \n",
       "4       2020-05-17  "
      ]
     },
     "execution_count": 8,
     "metadata": {},
     "output_type": "execute_result"
    }
   ],
   "source": [
    "blog.head()"
   ]
  },
  {
   "cell_type": "markdown",
   "metadata": {},
   "source": [
    "# Basic Visualisations of Dataset on Blog Articles"
   ]
  },
  {
   "cell_type": "code",
   "execution_count": 9,
   "metadata": {},
   "outputs": [
    {
     "data": {
      "text/plain": [
       "<matplotlib.axes._subplots.AxesSubplot at 0x7fc71c698ad0>"
      ]
     },
     "execution_count": 9,
     "metadata": {},
     "output_type": "execute_result"
    },
    {
     "data": {
      "image/png": "[encoded data removed]",
      "text/plain": [
       "<Figure size 432x288 with 1 Axes>"
      ]
     },
     "metadata": {
      "needs_background": "light"
     },
     "output_type": "display_data"
    }
   ],
   "source": [
    "blog['Category'].value_counts().plot.bar(title='Verteilung der Artikel nach Kategorie')"
   ]
  },
  {
   "cell_type": "markdown",
   "metadata": {},
   "source": [
    "Wir sehen, dass die Kategorie \"Digital\" die grösste Anzahl Artikel beinhaltet. Es wurde hingegen sehr wenig über Corporate Entrepreneurship geschrieben."
   ]
  },
  {
   "cell_type": "code",
   "execution_count": 10,
   "metadata": {},
   "outputs": [],
   "source": [
    "# Create a list of the unique blog articles, since there are duplicates in the original list (due to several tags per article)\n",
    "blog_unique = blog.drop_duplicates(['Text'], keep='first')"
   ]
  },
  {
   "cell_type": "code",
   "execution_count": 11,
   "metadata": {},
   "outputs": [
    {
     "data": {
      "text/plain": [
       "<matplotlib.axes._subplots.AxesSubplot at 0x7fc71d9e1690>"
      ]
     },
     "execution_count": 11,
     "metadata": {},
     "output_type": "execute_result"
    },
    {
     "data": {
      "image/png": "[encoded data removed]",
      "text/plain": [
       "<Figure size 432x288 with 1 Axes>"
      ]
     },
     "metadata": {
      "needs_background": "light"
     },
     "output_type": "display_data"
    }
   ],
   "source": [
    "blog_unique['Author'].value_counts().plot.bar(title='Verteilung der Artikel nach Autoren', )"
   ]
  },
  {
   "cell_type": "code",
   "execution_count": 12,
   "metadata": {},
   "outputs": [
    {
     "data": {
      "text/plain": [
       "Prof. Dr. Andrea Back    209\n",
       "Lena-Marie Paetzmann      60\n",
       "Arne Grüttner             27\n",
       "Christian Marheine        19\n",
       "Nina Holenstein            1\n",
       "Name: Author, dtype: int64"
      ]
     },
     "execution_count": 12,
     "metadata": {},
     "output_type": "execute_result"
    }
   ],
   "source": [
    "blog_unique['Author'].value_counts()"
   ]
  },
  {
   "cell_type": "markdown",
   "metadata": {},
   "source": [
    "Wir sehen, dass Prof. Dr. Andrea Back mit Abstand die Mehrheit der Artikel geschrieben hat (209 insgesamt)."
   ]
  },
  {
   "cell_type": "markdown",
   "metadata": {},
   "source": [
    "# Import and Clean Dataset about Twitter Posts"
   ]
  },
  {
   "cell_type": "code",
   "execution_count": 13,
   "metadata": {},
   "outputs": [],
   "source": [
    "# Import Twitter Dataset\n",
    "twitter = pd.read_json('BagnoudAlexandre3.json', lines = True)"
   ]
  },
  {
   "cell_type": "code",
   "execution_count": 14,
   "metadata": {},
   "outputs": [],
   "source": [
    "# Remove the columns that are not relevant for us\n",
    "twitter.drop(['id', 'conversation_id', 'timezone', 'user_id', 'username', 'name', 'place'], axis=1, inplace=True)\n",
    "twitter.drop(['geo', 'source', 'user_rt_id', 'user_rt', 'retweet_id', 'reply_to', 'translate', 'trans_src', 'trans_dest'], axis=1, inplace=True)"
   ]
  },
  {
   "cell_type": "code",
   "execution_count": 15,
   "metadata": {},
   "outputs": [],
   "source": [
    "# Clean the column on the urls shared to extract data from the strings later\n",
    "twitter['urls'] = twitter['urls'].astype(str)\n",
    "twitter['urls'] = twitter['urls'].map(lambda x: x.lstrip('['))\n",
    "twitter['urls'] = twitter['urls'].map(lambda x: x.rstrip(']'))"
   ]
  },
  {
   "cell_type": "markdown",
   "metadata": {},
   "source": [
    "# Analysis of Datasets"
   ]
  },
  {
   "cell_type": "code",
   "execution_count": 16,
   "metadata": {},
   "outputs": [],
   "source": [
    "# Create DateFrame with only the Twitter Posts that are relevant, i.e. the ones in which a link about the blog has been shared\n",
    "twitter_shared_link = twitter[twitter['urls'].str.contains(\"https://aback-blog.iwi.unisg.ch\", na=False)]"
   ]
  },
  {
   "cell_type": "code",
   "execution_count": 17,
   "metadata": {},
   "outputs": [
    {
     "data": {
      "text/plain": [
       "43"
      ]
     },
     "execution_count": 17,
     "metadata": {},
     "output_type": "execute_result"
    }
   ],
   "source": [
    "# How many times a link about the blog has been shared on Twitter\n",
    "len(twitter_shared_link)"
   ]
  },
  {
   "cell_type": "code",
   "execution_count": 18,
   "metadata": {},
   "outputs": [
    {
     "data": {
      "text/plain": [
       "316"
      ]
     },
     "execution_count": 18,
     "metadata": {},
     "output_type": "execute_result"
    }
   ],
   "source": [
    "# How many unique blog articles there are\n",
    "len(blog_unique)"
   ]
  },
  {
   "cell_type": "markdown",
   "metadata": {},
   "source": [
    "Prof. Dr. Andrea Back hat nur 43 mal einen Link zu ihrem Blog auf Twitter geteilt, also viel weniger als die 304  Artikel auf ihrem Blog (oder die 209 Artikel, die sie selber geschrieben hat). Daraus kann man schliessen, dass sie nur ausgewählte Artikel auf Twitter teilt."
   ]
  },
  {
   "cell_type": "markdown",
   "metadata": {},
   "source": [
    "## Analysis of Article Publications' / Twitter Posts' dates"
   ]
  },
  {
   "cell_type": "code",
   "execution_count": 19,
   "metadata": {},
   "outputs": [],
   "source": [
    "publication_distribution = pd.DataFrame(blog_unique['Publication_Date'].value_counts().sort_index())"
   ]
  },
  {
   "cell_type": "code",
   "execution_count": 20,
   "metadata": {},
   "outputs": [
    {
     "data": {
      "text/plain": [
       "[<matplotlib.lines.Line2D at 0x7fc71e11e790>]"
      ]
     },
     "execution_count": 20,
     "metadata": {},
     "output_type": "execute_result"
    },
    {
     "data": {
      "image/png": "[encoded data removed]",
      "text/plain": [
       "<Figure size 1800x720 with 1 Axes>"
      ]
     },
     "metadata": {
      "needs_background": "light"
     },
     "output_type": "display_data"
    }
   ],
   "source": [
    "fig, graph = plt.subplots(figsize=(25, 10))\n",
    "\n",
    "graph.set_xlabel('Time')\n",
    "graph.set_ylabel('Number of Publications')\n",
    "graph.set_title('Distribution of Publications')\n",
    "graph.grid(True)\n",
    "\n",
    "graph.xaxis.set_major_locator(MonthLocator(interval=6))\n",
    "graph.xaxis.set_major_formatter(DateFormatter('%Y-%m'))\n",
    "graph.xaxis.set_minor_locator(MonthLocator())\n",
    "\n",
    "graph.plot(publication_distribution.index, publication_distribution, color='tab:blue', label='Blog Publication',\n",
    "        linestyle='None', marker='o', ms=6)"
   ]
  },
  {
   "cell_type": "markdown",
   "metadata": {},
   "source": [
    "Diese Grafik zeigt wie viele Artikel wann publiziert wurden.\n",
    "\n",
    "Zwischen 2014 und 2017 hat Prof. Dr. Back max. 1 Blog-Artikel pro Monat geschrieben. Ab 2017 hat sie dies viel häufiger gemacht.\n",
    "\n",
    "Wir sehen auch, dass sie oft mehrere Blog-Artikel am gleichen Tag publiziert - sogar bis zu 9 Artikeln am gleichen Tag! "
   ]
  },
  {
   "cell_type": "code",
   "execution_count": 21,
   "metadata": {},
   "outputs": [
    {
     "name": "stderr",
     "output_type": "stream",
     "text": [
      "/opt/anaconda3/lib/python3.7/site-packages/ipykernel_launcher.py:1: SettingWithCopyWarning: \n",
      "A value is trying to be set on a copy of a slice from a DataFrame.\n",
      "Try using .loc[row_indexer,col_indexer] = value instead\n",
      "\n",
      "See the caveats in the documentation: http://pandas.pydata.org/pandas-docs/stable/user_guide/indexing.html#returning-a-view-versus-a-copy\n",
      "  \"\"\"Entry point for launching an IPython kernel.\n",
      "/opt/anaconda3/lib/python3.7/site-packages/ipykernel_launcher.py:2: SettingWithCopyWarning: \n",
      "A value is trying to be set on a copy of a slice from a DataFrame.\n",
      "Try using .loc[row_indexer,col_indexer] = value instead\n",
      "\n",
      "See the caveats in the documentation: http://pandas.pydata.org/pandas-docs/stable/user_guide/indexing.html#returning-a-view-versus-a-copy\n",
      "  \n",
      "/opt/anaconda3/lib/python3.7/site-packages/ipykernel_launcher.py:3: SettingWithCopyWarning: \n",
      "A value is trying to be set on a copy of a slice from a DataFrame.\n",
      "Try using .loc[row_indexer,col_indexer] = value instead\n",
      "\n",
      "See the caveats in the documentation: http://pandas.pydata.org/pandas-docs/stable/user_guide/indexing.html#returning-a-view-versus-a-copy\n",
      "  This is separate from the ipykernel package so we can avoid doing imports until\n"
     ]
    }
   ],
   "source": [
    "blog_unique[\"Publication_year\"] = blog_unique[\"Publication_Date\"].dt.year\n",
    "blog_unique[\"Publication_month\"] = blog_unique[\"Publication_Date\"].dt.month\n",
    "blog_unique[\"Publication_day\"] = blog_unique[\"Publication_Date\"].dt.day"
   ]
  },
  {
   "cell_type": "code",
   "execution_count": 22,
   "metadata": {},
   "outputs": [
    {
     "data": {
      "text/plain": [
       "<matplotlib.axes._subplots.AxesSubplot at 0x7fc71e1515d0>"
      ]
     },
     "execution_count": 22,
     "metadata": {},
     "output_type": "execute_result"
    },
    {
     "data": {
      "image/png": "[encoded data removed]",
      "text/plain": [
       "<Figure size 432x288 with 1 Axes>"
      ]
     },
     "metadata": {
      "needs_background": "light"
     },
     "output_type": "display_data"
    }
   ],
   "source": [
    "blog_unique['Publication_year'].value_counts().sort_index().plot.bar(title = 'Frequency of Blog Publication based on years')"
   ]
  },
  {
   "cell_type": "markdown",
   "metadata": {},
   "source": [
    "Frau Prof. Dr. Back hat ab dem Jahr 2017 viel mehr Blog-Artikel publiziert."
   ]
  },
  {
   "cell_type": "code",
   "execution_count": 23,
   "metadata": {},
   "outputs": [
    {
     "data": {
      "text/plain": [
       "<matplotlib.axes._subplots.AxesSubplot at 0x7fc71d9e1890>"
      ]
     },
     "execution_count": 23,
     "metadata": {},
     "output_type": "execute_result"
    },
    {
     "data": {
      "image/png": "[encoded data removed]",
      "text/plain": [
       "<Figure size 432x288 with 1 Axes>"
      ]
     },
     "metadata": {
      "needs_background": "light"
     },
     "output_type": "display_data"
    }
   ],
   "source": [
    "blog_unique['Publication_month'].value_counts().sort_index().plot.bar(title = 'Frequency of Blog Publication based on months')"
   ]
  },
  {
   "cell_type": "markdown",
   "metadata": {},
   "source": [
    "Man kann beobachten, dass es NIE Blog-Artikel im Januar und August publiziert werden. Sie werden auch sehr selten im Juli publiziert."
   ]
  },
  {
   "cell_type": "code",
   "execution_count": 24,
   "metadata": {},
   "outputs": [
    {
     "data": {
      "text/plain": [
       "<matplotlib.axes._subplots.AxesSubplot at 0x7fc71e17be10>"
      ]
     },
     "execution_count": 24,
     "metadata": {},
     "output_type": "execute_result"
    },
    {
     "data": {
      "image/png": "[encoded data removed]",
      "text/plain": [
       "<Figure size 432x288 with 1 Axes>"
      ]
     },
     "metadata": {
      "needs_background": "light"
     },
     "output_type": "display_data"
    }
   ],
   "source": [
    "blog_unique['Publication_day'].value_counts().sort_index().plot.bar(title='Frequency of Blog Publication based on days')"
   ]
  },
  {
   "cell_type": "markdown",
   "metadata": {},
   "source": [
    "Es ist interessant zu sehen, dass die Mehrheit der Blog-Artikel zwischen dem 12. und dem 20. vom Monat publiziert werden. Es wurde noch nie Artikel nach dem 21. eines Monats publiziert."
   ]
  },
  {
   "cell_type": "markdown",
   "metadata": {},
   "source": [
    "**Fazit:** Man sollte den Blog zwischen Februar - Juni und September - Dezember besuchen, und eher zwischen dem 12. und 20. vom Monat. Da ist die Wahrscheinlichkeit am höchsten, dass wir neue Blog Artikel finden werden."
   ]
  },
  {
   "cell_type": "code",
   "execution_count": 25,
   "metadata": {},
   "outputs": [],
   "source": [
    "twitter_shared_link_dist = pd.DataFrame(twitter_shared_link['date'].value_counts().sort_index())"
   ]
  },
  {
   "cell_type": "code",
   "execution_count": 26,
   "metadata": {},
   "outputs": [
    {
     "data": {
      "text/plain": [
       "[<matplotlib.lines.Line2D at 0x7fc71e198e10>]"
      ]
     },
     "execution_count": 26,
     "metadata": {},
     "output_type": "execute_result"
    },
    {
     "data": {
      "image/png": "[encoded data removed]",
      "text/plain": [
       "<Figure size 1440x720 with 1 Axes>"
      ]
     },
     "metadata": {
      "needs_background": "light"
     },
     "output_type": "display_data"
    }
   ],
   "source": [
    "fig, graph = plt.subplots(figsize=(20, 10))\n",
    "\n",
    "graph.set_xlabel('Time')\n",
    "graph.set_ylabel('Number of Blog articles published on Twitter')\n",
    "graph.set_title('Distribution of Tweets about Blog Articles')\n",
    "graph.grid(True)\n",
    "\n",
    "graph.xaxis.set_major_locator(MonthLocator(interval=3))\n",
    "graph.xaxis.set_major_formatter(DateFormatter('%Y-%m'))\n",
    "graph.xaxis.set_minor_locator(MonthLocator())\n",
    "\n",
    "graph.plot(twitter_shared_link_dist.index, twitter_shared_link_dist, color='red', label='Twitter-Post',\n",
    "        linestyle='None', marker='o')"
   ]
  },
  {
   "cell_type": "markdown",
   "metadata": {},
   "source": [
    "Frau Prof. Dr. Back hat den ersten Link zu ihrem Blog im September 2017 auf Twitter gepostet, also im gleichen Jahr wo sie angefangen hat, mehr Artikel auf ihrem Blog zu publizieren."
   ]
  },
  {
   "cell_type": "code",
   "execution_count": 27,
   "metadata": {},
   "outputs": [
    {
     "data": {
      "text/plain": [
       "<matplotlib.legend.Legend at 0x7fc71e43e8d0>"
      ]
     },
     "execution_count": 27,
     "metadata": {},
     "output_type": "execute_result"
    },
    {
     "data": {
      "image/png": "[encoded data removed]",
      "text/plain": [
       "<Figure size 1440x720 with 2 Axes>"
      ]
     },
     "metadata": {
      "needs_background": "light"
     },
     "output_type": "display_data"
    }
   ],
   "source": [
    "fig, graph = plt.subplots(figsize=(20, 10))\n",
    "graph_b = graph.twinx()\n",
    "\n",
    "graph.set_xlabel('Time')\n",
    "graph.set_ylabel('Number of Elements')\n",
    "graph.set_title('Distribution of Blog Publications and Tweets about it')\n",
    "graph.grid(True)\n",
    "\n",
    "graph.plot(publication_distribution['2017-01-01':'2020-12-31'].index, publication_distribution['2017-01-01':'2020-12-31'], color='tab:blue', label='Blog Publication',\n",
    "        linestyle='None', marker='o')\n",
    "\n",
    "graph_b.plot(twitter_shared_link_dist.index, twitter_shared_link_dist, color='red', label='Tweet about Blog Publication',\n",
    "        linestyle='None', marker='^', ms=8.0)\n",
    "\n",
    "graph.xaxis.set_major_locator(MonthLocator())\n",
    "graph_b.axes.get_yaxis().set_visible(False)\n",
    "\n",
    "plt.setp(graph.get_xticklabels(), rotation=90, )\n",
    "\n",
    "mylines, mylabels = graph.get_legend_handles_labels()\n",
    "mylines_b, mylabels_b = graph_b.get_legend_handles_labels()\n",
    "graph.legend(mylines + mylines_b, mylabels + mylabels_b, loc='upper left')\n"
   ]
  },
  {
   "cell_type": "markdown",
   "metadata": {},
   "source": [
    "Auf dieser Grafik kann man folgendes sehen:\n",
    "- Frau Prof. Dr. Back postet nicht alle Blog-Artikel auf Twitter\n",
    "- Frau Prof. Dr. Back postet in der Regel den Link auf Twitter nicht am gleichen Tag wo sie den Artikel auf dem Blog publiziert. Sie wartet ein paar Tage.\n",
    "\n",
    "Diese Grafik ist aber noch etwas unübersichtlich. Wir sollen nun genauer untersuchen, wie viele Tage Frau Prof. Dr. Back wartet, bevor sie den Link eines Blog-Artikls auf Twitter postet."
   ]
  },
  {
   "cell_type": "code",
   "execution_count": 28,
   "metadata": {},
   "outputs": [],
   "source": [
    "joint_distribution = pd.concat([publication_distribution['2017-01-09':'2020-12-31'], twitter_shared_link_dist], axis=1)"
   ]
  },
  {
   "cell_type": "code",
   "execution_count": 29,
   "metadata": {},
   "outputs": [],
   "source": [
    "joint_distribution.rename(columns={'Publication_Date':'Blog_Publication', 'date':'Twitter_Publication'}, inplace=True)"
   ]
  },
  {
   "cell_type": "code",
   "execution_count": 30,
   "metadata": {},
   "outputs": [
    {
     "data": {
      "text/html": [
       "<div>\n",
       "<style scoped>\n",
       "    .dataframe tbody tr th:only-of-type {\n",
       "        vertical-align: middle;\n",
       "    }\n",
       "\n",
       "    .dataframe tbody tr th {\n",
       "        vertical-align: top;\n",
       "    }\n",
       "\n",
       "    .dataframe thead th {\n",
       "        text-align: right;\n",
       "    }\n",
       "</style>\n",
       "<table border=\"1\" class=\"dataframe\">\n",
       "  <thead>\n",
       "    <tr style=\"text-align: right;\">\n",
       "      <th></th>\n",
       "      <th>Blog_Publication</th>\n",
       "      <th>Twitter_Publication</th>\n",
       "    </tr>\n",
       "  </thead>\n",
       "  <tbody>\n",
       "    <tr>\n",
       "      <td>2017-12-19</td>\n",
       "      <td>8.0</td>\n",
       "      <td>1.0</td>\n",
       "    </tr>\n",
       "    <tr>\n",
       "      <td>2018-10-18</td>\n",
       "      <td>4.0</td>\n",
       "      <td>2.0</td>\n",
       "    </tr>\n",
       "    <tr>\n",
       "      <td>2019-04-08</td>\n",
       "      <td>2.0</td>\n",
       "      <td>1.0</td>\n",
       "    </tr>\n",
       "    <tr>\n",
       "      <td>2020-04-20</td>\n",
       "      <td>6.0</td>\n",
       "      <td>1.0</td>\n",
       "    </tr>\n",
       "    <tr>\n",
       "      <td>2020-09-17</td>\n",
       "      <td>7.0</td>\n",
       "      <td>1.0</td>\n",
       "    </tr>\n",
       "  </tbody>\n",
       "</table>\n",
       "</div>"
      ],
      "text/plain": [
       "            Blog_Publication  Twitter_Publication\n",
       "2017-12-19               8.0                  1.0\n",
       "2018-10-18               4.0                  2.0\n",
       "2019-04-08               2.0                  1.0\n",
       "2020-04-20               6.0                  1.0\n",
       "2020-09-17               7.0                  1.0"
      ]
     },
     "execution_count": 30,
     "metadata": {},
     "output_type": "execute_result"
    }
   ],
   "source": [
    "# Wir schauen hier ob gewisse Tweets über den Blog am gleichen Tag gepostet wurden, als ein Blog-Artikel geschrieben wurde.\n",
    "joint_distribution.dropna()"
   ]
  },
  {
   "cell_type": "markdown",
   "metadata": {},
   "source": [
    "Dies bestätigt unsere Vermutung aus der obenen Grafik: Frau Prof. Dr. Back teilt selten einen Link auf Twitter am gleichen Tag wo sie einen Artikel auf ihrem Blog publiziert hat. Es ist nur 5-mal passiert zwischen September 2017 und Dezember 2020, und wir sind noch nicht sicher, ob es sich bei der Blog-Publikation und bei dem Tweet um den gleichen Blog-Artikel gehandelt hat."
   ]
  },
  {
   "cell_type": "code",
   "execution_count": 31,
   "metadata": {},
   "outputs": [],
   "source": [
    "#Extract the date of the blog article from the urls shared in a Tweet\n",
    "r = twitter_shared_link.urls.str.extractall(\"(\\d\\d\\d\\d/\\d\\d/\\d\\d)\").unstack()\n",
    "r.columns = r.columns.droplevel(0)\n",
    "twitter_shared_link = twitter_shared_link.join(r)"
   ]
  },
  {
   "cell_type": "code",
   "execution_count": 32,
   "metadata": {},
   "outputs": [],
   "source": [
    "# Clean the column from the new data extracted in the cell above\n",
    "twitter_shared_link.rename(columns={0:'blog_article_date'}, inplace=True)\n",
    "twitter_shared_link = twitter_shared_link[twitter_shared_link['blog_article_date'].notna()]\n",
    "twitter_shared_link.drop(1, inplace=True, axis=1)\n",
    "\n",
    "# Change data type to datetime\n",
    "twitter_shared_link['blog_article_date'] = pd.to_datetime(twitter_shared_link['blog_article_date'])\n",
    "\n",
    "# Calculate the number of days that pass between a publication on a blog and a tweet about this same article\n",
    "twitter_shared_link['blog_to_twitter_days'] = twitter_shared_link['date'] - twitter_shared_link['blog_article_date']"
   ]
  },
  {
   "cell_type": "code",
   "execution_count": 33,
   "metadata": {},
   "outputs": [],
   "source": [
    "# Create a new dataframe for the time lapse between blog publication and tweet about it\n",
    "time_to_twitter = pd.DataFrame(twitter_shared_link['blog_to_twitter_days'].value_counts().sort_index())\n",
    "time_to_twitter.rename(columns={'blog_to_twitter_days':'absolute_frequency'}, inplace=True)\n",
    "\n",
    "# Calculate frequencies so that we can create a plot\n",
    "time_to_twitter['cumulative_frequency'] = time_to_twitter['absolute_frequency'].cumsum()\n",
    "time_to_twitter['relative_cumulative_frequency'] = time_to_twitter['cumulative_frequency'] / len(twitter_shared_link)"
   ]
  },
  {
   "cell_type": "code",
   "execution_count": 34,
   "metadata": {},
   "outputs": [],
   "source": [
    "# Clean the index of the dataframe so that it comes nice when we plot it\n",
    "time_to_twitter.index = time_to_twitter.index.map(str)\n",
    "as_list = time_to_twitter.index.tolist()\n",
    "time_to_twitter.index = [x[:-9] for x in as_list]"
   ]
  },
  {
   "cell_type": "code",
   "execution_count": 35,
   "metadata": {},
   "outputs": [
    {
     "data": {
      "text/html": [
       "<div>\n",
       "<style scoped>\n",
       "    .dataframe tbody tr th:only-of-type {\n",
       "        vertical-align: middle;\n",
       "    }\n",
       "\n",
       "    .dataframe tbody tr th {\n",
       "        vertical-align: top;\n",
       "    }\n",
       "\n",
       "    .dataframe thead th {\n",
       "        text-align: right;\n",
       "    }\n",
       "</style>\n",
       "<table border=\"1\" class=\"dataframe\">\n",
       "  <thead>\n",
       "    <tr style=\"text-align: right;\">\n",
       "      <th></th>\n",
       "      <th>absolute_frequency</th>\n",
       "      <th>cumulative_frequency</th>\n",
       "      <th>relative_cumulative_frequency</th>\n",
       "    </tr>\n",
       "  </thead>\n",
       "  <tbody>\n",
       "    <tr>\n",
       "      <td>0 days</td>\n",
       "      <td>4</td>\n",
       "      <td>4</td>\n",
       "      <td>0.095238</td>\n",
       "    </tr>\n",
       "    <tr>\n",
       "      <td>1 days</td>\n",
       "      <td>3</td>\n",
       "      <td>7</td>\n",
       "      <td>0.166667</td>\n",
       "    </tr>\n",
       "    <tr>\n",
       "      <td>2 days</td>\n",
       "      <td>6</td>\n",
       "      <td>13</td>\n",
       "      <td>0.309524</td>\n",
       "    </tr>\n",
       "    <tr>\n",
       "      <td>3 days</td>\n",
       "      <td>3</td>\n",
       "      <td>16</td>\n",
       "      <td>0.380952</td>\n",
       "    </tr>\n",
       "    <tr>\n",
       "      <td>4 days</td>\n",
       "      <td>5</td>\n",
       "      <td>21</td>\n",
       "      <td>0.500000</td>\n",
       "    </tr>\n",
       "    <tr>\n",
       "      <td>5 days</td>\n",
       "      <td>4</td>\n",
       "      <td>25</td>\n",
       "      <td>0.595238</td>\n",
       "    </tr>\n",
       "    <tr>\n",
       "      <td>6 days</td>\n",
       "      <td>3</td>\n",
       "      <td>28</td>\n",
       "      <td>0.666667</td>\n",
       "    </tr>\n",
       "    <tr>\n",
       "      <td>7 days</td>\n",
       "      <td>2</td>\n",
       "      <td>30</td>\n",
       "      <td>0.714286</td>\n",
       "    </tr>\n",
       "    <tr>\n",
       "      <td>8 days</td>\n",
       "      <td>2</td>\n",
       "      <td>32</td>\n",
       "      <td>0.761905</td>\n",
       "    </tr>\n",
       "    <tr>\n",
       "      <td>10 days</td>\n",
       "      <td>1</td>\n",
       "      <td>33</td>\n",
       "      <td>0.785714</td>\n",
       "    </tr>\n",
       "    <tr>\n",
       "      <td>11 days</td>\n",
       "      <td>4</td>\n",
       "      <td>37</td>\n",
       "      <td>0.880952</td>\n",
       "    </tr>\n",
       "    <tr>\n",
       "      <td>12 days</td>\n",
       "      <td>1</td>\n",
       "      <td>38</td>\n",
       "      <td>0.904762</td>\n",
       "    </tr>\n",
       "    <tr>\n",
       "      <td>13 days</td>\n",
       "      <td>1</td>\n",
       "      <td>39</td>\n",
       "      <td>0.928571</td>\n",
       "    </tr>\n",
       "    <tr>\n",
       "      <td>17 days</td>\n",
       "      <td>1</td>\n",
       "      <td>40</td>\n",
       "      <td>0.952381</td>\n",
       "    </tr>\n",
       "    <tr>\n",
       "      <td>22 days</td>\n",
       "      <td>1</td>\n",
       "      <td>41</td>\n",
       "      <td>0.976190</td>\n",
       "    </tr>\n",
       "    <tr>\n",
       "      <td>33 days</td>\n",
       "      <td>1</td>\n",
       "      <td>42</td>\n",
       "      <td>1.000000</td>\n",
       "    </tr>\n",
       "  </tbody>\n",
       "</table>\n",
       "</div>"
      ],
      "text/plain": [
       "         absolute_frequency  cumulative_frequency  \\\n",
       "0 days                    4                     4   \n",
       "1 days                    3                     7   \n",
       "2 days                    6                    13   \n",
       "3 days                    3                    16   \n",
       "4 days                    5                    21   \n",
       "5 days                    4                    25   \n",
       "6 days                    3                    28   \n",
       "7 days                    2                    30   \n",
       "8 days                    2                    32   \n",
       "10 days                   1                    33   \n",
       "11 days                   4                    37   \n",
       "12 days                   1                    38   \n",
       "13 days                   1                    39   \n",
       "17 days                   1                    40   \n",
       "22 days                   1                    41   \n",
       "33 days                   1                    42   \n",
       "\n",
       "         relative_cumulative_frequency  \n",
       "0 days                        0.095238  \n",
       "1 days                        0.166667  \n",
       "2 days                        0.309524  \n",
       "3 days                        0.380952  \n",
       "4 days                        0.500000  \n",
       "5 days                        0.595238  \n",
       "6 days                        0.666667  \n",
       "7 days                        0.714286  \n",
       "8 days                        0.761905  \n",
       "10 days                       0.785714  \n",
       "11 days                       0.880952  \n",
       "12 days                       0.904762  \n",
       "13 days                       0.928571  \n",
       "17 days                       0.952381  \n",
       "22 days                       0.976190  \n",
       "33 days                       1.000000  "
      ]
     },
     "execution_count": 35,
     "metadata": {},
     "output_type": "execute_result"
    }
   ],
   "source": [
    "# Visualise the Dataframe: how many days pass before Mrs. Prof. Dr. Back tweets about a newly published blog article?\n",
    "time_to_twitter"
   ]
  },
  {
   "cell_type": "code",
   "execution_count": 36,
   "metadata": {},
   "outputs": [
    {
     "data": {
      "text/plain": [
       "[<matplotlib.lines.Line2D at 0x7fc71e487690>]"
      ]
     },
     "execution_count": 36,
     "metadata": {},
     "output_type": "execute_result"
    },
    {
     "data": {
      "image/png": "[encoded data removed]",
      "text/plain": [
       "<Figure size 1080x360 with 1 Axes>"
      ]
     },
     "metadata": {
      "needs_background": "light"
     },
     "output_type": "display_data"
    }
   ],
   "source": [
    "fig, graph = plt.subplots(figsize=(15, 5))\n",
    "\n",
    "graph.set_xlabel('Number of days')\n",
    "graph.set_ylabel('Relative Cumulative Frequency')\n",
    "graph.set_title('Number of days between a blog publication and the Tweet about it')\n",
    "graph.grid(True)\n",
    "\n",
    "graph.plot(time_to_twitter.index, time_to_twitter['relative_cumulative_frequency'], color='blue', marker='o')"
   ]
  },
  {
   "cell_type": "markdown",
   "metadata": {},
   "source": [
    "Mit dieser Grafik sieht man, dass wenn Frau Prof. Dr. Back einen Blog-Artikel auf Twitter teilt, macht sie es in 50% der Fälle innerhalb von max. 4 Tagen nachdem der Artikel auf dem Blog publiziert wurde. In knapp 80% der Fälle erfolgt dies innerhalb von max. 10 Tage. Es ist hingegen sehr selten, dass sie den Blog-Artikel am Tag der Publikation auf Twitter teilt (weniger als 10% der Fälle)."
   ]
  }
 ],
 "metadata": {
  "kernelspec": {
   "display_name": "Python 3",
   "language": "python",
   "name": "python3"
  },
  "language_info": {
   "codemirror_mode": {
    "name": "ipython",
    "version": 3
   },
   "file_extension": ".py",
   "mimetype": "text/x-python",
   "name": "python",
   "nbconvert_exporter": "python",
   "pygments_lexer": "ipython3",
   "version": "3.7.4"
  }
 },
 "nbformat": 4,
 "nbformat_minor": 2
}
