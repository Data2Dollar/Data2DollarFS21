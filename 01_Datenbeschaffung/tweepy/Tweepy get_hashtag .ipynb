{
 "cells": [
  {
   "cell_type": "code",
   "execution_count": 1,
   "metadata": {},
   "outputs": [],
   "source": [
    "# Importieren der benoetigten Bibliotheken \n",
    "import tweepy\n",
    "import csv\n",
    "import pandas as pd"
   ]
  },
  {
   "cell_type": "code",
   "execution_count": 2,
   "metadata": {},
   "outputs": [],
   "source": [
    "# Verification mittels individueller Access und Consumer Toekns/Secrets\n",
    "ACCESS_TOKEN = \"1069878781110902784-H18JN2alNMGD0Uv8BFsTB1o1lEwDpS\"\n",
    "ACCESS_SECRET = \"L21jL23ogr0qVuqJ2p8Gcjg32T3TRCMlXUWsx9x8EBHmc\"\n",
    "CONSUMER_KEY = \"jNoyds3dIvolZmuwvKLl0lRI0\"\n",
    "CONSUMER_SECRET = \"VZ7EawnfdNdWNx55h8qieiesjoOLBaQxE1lXs8qmFWVL0aiXJJ\""
   ]
  },
  {
   "cell_type": "code",
   "execution_count": 3,
   "metadata": {},
   "outputs": [],
   "source": [
    "# Setup access to API\n",
    "def connect_to_twitter_OAuth():\n",
    "    auth = tweepy.OAuthHandler(CONSUMER_KEY, CONSUMER_SECRET)\n",
    "    auth.set_access_token(ACCESS_TOKEN, ACCESS_SECRET)\n",
    "    api = tweepy.API(auth)\n",
    "    return api"
   ]
  },
  {
   "cell_type": "code",
   "execution_count": 4,
   "metadata": {},
   "outputs": [],
   "source": [
    "api = connect_to_twitter_OAuth()"
   ]
  },
  {
   "cell_type": "code",
   "execution_count": 5,
   "metadata": {},
   "outputs": [],
   "source": [
    "# Open/Create a file to append data\n",
    "csvFile = open('HSGStGallen.csv', 'a')\n",
    "# Use csv Writer\n",
    "csvWriter = csv.writer(csvFile)"
   ]
  },
  {
   "cell_type": "code",
   "execution_count": 6,
   "metadata": {},
   "outputs": [
    {
     "name": "stdout",
     "output_type": "stream",
     "text": [
      "2020-02-24 08:24:37 RT @DudenhofferAUTO: #Uni #St.Gallen – #SPITZENRANKINGS – sympathisches Team - Freue mich, in ein paar Tagen an Bord zu sein. \n",
      "\n",
      "#HSGStGalle…\n",
      "2020-02-23 14:14:27 RT @DudenhofferAUTO: #Uni #St.Gallen – #SPITZENRANKINGS – sympathisches Team - Freue mich, in ein paar Tagen an Bord zu sein. \n",
      "\n",
      "#HSGStGalle…\n",
      "2020-02-23 11:46:33 #Uni #St.Gallen – #SPITZENRANKINGS – sympathisches Team - Freue mich, in ein paar Tagen an Bord zu sein.… https://t.co/WYFERsMWFj\n"
     ]
    }
   ],
   "source": [
    "# Schleife inkl. Twittersuche \n",
    "for tweet in tweepy.Cursor(api.search,q=\"#HSGStGallen\",count=100,\n",
    "                           lang=\"de\",\n",
    "                           since=\"2015-01-01\").items():\n",
    "    print (tweet.created_at, tweet.text)\n",
    "    csvWriter.writerow([tweet.created_at, tweet.text.encode('utf-8')])"
   ]
  }
 ],
 "metadata": {
  "kernelspec": {
   "display_name": "Python 3",
   "language": "python",
   "name": "python3"
  },
  "language_info": {
   "codemirror_mode": {
    "name": "ipython",
    "version": 3
   },
   "file_extension": ".py",
   "mimetype": "text/x-python",
   "name": "python",
   "nbconvert_exporter": "python",
   "pygments_lexer": "ipython3",
   "version": "3.7.3"
  }
 },
 "nbformat": 4,
 "nbformat_minor": 2
}
